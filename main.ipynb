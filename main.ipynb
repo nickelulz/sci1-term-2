{"nbformat":4,"metadata":{"kernelspec":{"display_name":"Python 3 (ipykernel)","language":"python","name":"python3"},"language_info":{"nbconvert_exporter":"python","mimetype":"text\/x-python","version":"3.11.2","codemirror_mode":{"name":"ipython","version":3},"pygments_lexer":"ipython3","file_extension":".py","name":"python"}},"nbformat_minor":5,"cells":[{"metadata":{"collapsed":false},"cell_type":"code","execution_count":1,"outputs":[],"source":["iterations = 1000
num_flips = 1e4

models = []
complexity_data = []
error_data = []

debug = False

for i in range(iterations):
    input_model = generate_random_model(size_range=(1, 5), memory_depth_range=(1, 1))

    result = perform_coin_flips(input_model, int(num_flips))
    output_models = reverse_engineer_model(result.flip_history, input_model)
    error = [calculate_model_error(input_model, output_model, result.empirical_distribution, perform_coin_flips(output_model, int(num_flips)).empirical_distribution) for output_model in output_models]

    if debug:
        print(f'Iteration {i+1}: n={input_model.size}, m={input_model.memory_depth}, error={np.round(error, 1)}')

        if error[0] > 20:
            print('Input:',  '\n', input_model.probabilities, '\n', 
                  'Output:', '\n', output_models[0].probabilities)

    models.append(input_model)
    complexity_data.append(input_model.complexity)
    error_data.append(np.array(error).transpose())
"],"id":"ff921152"},{"metadata":{"collapsed":false},"cell_type":"code","execution_count":3,"outputs":[],"source":["import numpy as np\n","from matplotlib import pyplot as plt\n","\n","plt.figure()\n","plt.scatter(complexity_data, error_data)\n","# plt.yticks([0, 0.5, 1])\n","plt.xlabel('Complexity')\n","plt.ylabel('Relative Error')\n","plt.title(f'Relative Error vs. Complexity ({iterations} Iterations, {num_flips:.0E} Flips)')\n","plt.show()\n"],"id":"1a4cc370"}]}
