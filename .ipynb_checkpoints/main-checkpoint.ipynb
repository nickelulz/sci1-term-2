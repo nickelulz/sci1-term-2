{
 "cells": [
  {
   "cell_type": "code",
   "execution_count": 1,
   "id": "364d7a6b",
   "metadata": {
    "collapsed": false,
    "jupyter": {
     "outputs_hidden": false
    }
   },
   "outputs": [],
   "source": [
    "import sys\n",
    "sys.path.insert(1, 'src')\n",
    "\n",
    "from src.coins import *\n",
    "from src.generator import generate_random_model\n",
    "from src.reverse_engineer import reverse_engineer_model\n",
    "from src.error import calculate_model_error_all"
   ]
  },
  {
   "cell_type": "code",
   "execution_count": 2,
   "id": "ff921152",
   "metadata": {
    "collapsed": false,
    "jupyter": {
     "outputs_hidden": false
    }
   },
   "outputs": [
    {
     "ename": "NameError",
     "evalue": "name 'calculate_model_error' is not defined",
     "output_type": "error",
     "traceback": [
      "\u001b[0;31m---------------------------------------------------------------------------\u001b[0m",
      "\u001b[0;31mNameError\u001b[0m                                 Traceback (most recent call last)",
      "Cell \u001b[0;32mIn[2], line 17\u001b[0m\n\u001b[1;32m     14\u001b[0m input_model \u001b[38;5;241m=\u001b[39m generate_random_model(size_range\u001b[38;5;241m=\u001b[39mSIZE_RANGE, memory_depth_range\u001b[38;5;241m=\u001b[39mMEMORY_DEPTH_RANGE, benchmark\u001b[38;5;241m=\u001b[39m\u001b[38;5;28;01mTrue\u001b[39;00m, benchmark_flips\u001b[38;5;241m=\u001b[39m\u001b[38;5;28mint\u001b[39m(NUM_FLIPS))\n\u001b[1;32m     15\u001b[0m calix_output \u001b[38;5;241m=\u001b[39m reverse_engineer_model(input_model\u001b[38;5;241m.\u001b[39mbenchmark_result\u001b[38;5;241m.\u001b[39mflip_history, input_model, benchmark\u001b[38;5;241m=\u001b[39m\u001b[38;5;28;01mTrue\u001b[39;00m, benchmark_flips\u001b[38;5;241m=\u001b[39m\u001b[38;5;28mint\u001b[39m(NUM_FLIPS))\n\u001b[0;32m---> 17\u001b[0m calix_error \u001b[38;5;241m=\u001b[39m calculate_model_error(input_model, calix_output)\n\u001b[1;32m     18\u001b[0m \u001b[38;5;66;03m# sleeper_error = calculate_model_error(input_model, sleeper_output, sleeper=True)\u001b[39;00m\n\u001b[1;32m     20\u001b[0m \u001b[38;5;28;01mif\u001b[39;00m DEBUG:\n",
      "\u001b[0;31mNameError\u001b[0m: name 'calculate_model_error' is not defined"
     ]
    }
   ],
   "source": [
    "NUM_COINS = 1000\n",
    "NUM_FLIPS = 1e4\n",
    "SIZE_RANGE = (1, 5)\n",
    "MEMORY_DEPTH_RANGE = (1, 4)\n",
    "\n",
    "models = []\n",
    "memory_depth_data = []\n",
    "complexity_data = {}\n",
    "error_data = {}\n",
    "\n",
    "DEBUG = True\n",
    "\n",
    "for i in range(NUM_COINS):\n",
    "    input_model = generate_random_model(size_range=SIZE_RANGE, memory_depth_range=MEMORY_DEPTH_RANGE, benchmark=True, benchmark_flips=int(NUM_FLIPS))\n",
    "    calix_output = reverse_engineer_model(input_model.benchmark_result.flip_history, input_model, benchmark=True, benchmark_flips=int(NUM_FLIPS))\n",
    "\n",
    "    calix_error = calculate_model_error(input_model, calix_output)\n",
    "    # sleeper_error = calculate_model_error(input_model, sleeper_output, sleeper=True)\n",
    "\n",
    "    if DEBUG:\n",
    "        print(f'Iteration {i+1}: n={input_model.size}, m={input_model.memory_depth}, error={np.round(errors, 1)}')\n",
    "\n",
    "    if not (input_model.memory_depth in complexity_data):\n",
    "        complexity_data[input_model.memory_depth] = []\n",
    "        error_data[input_model.memory_depth] = []\n",
    "\n",
    "    models.append(input_model)\n",
    "    memory_depth_data.append(input_model.memory_depth)\n",
    "    complexity_data[input_model.memory_depth].append(input_model.complexity)\n",
    "    error_data[input_model.memory_depth].append(calix_error)\n",
    "\n",
    "memory_depth_data = set(memory_depth_data)\n",
    "min_memory_depth = min(memory_depth_data)\n",
    "max_memory_depth = max(memory_depth_data)\n"
   ]
  },
  {
   "cell_type": "code",
   "execution_count": null,
   "id": "1a4cc370",
   "metadata": {
    "collapsed": false,
    "jupyter": {
     "outputs_hidden": false
    }
   },
   "outputs": [],
   "source": [
    "import numpy as np\n",
    "from matplotlib import pyplot as plt\n",
    "from matplotlib import colors as mcolors\n",
    "\n",
    "plt.figure()\n",
    "ax = plt.gca()  # Get the current axis\n",
    "\n",
    "plt.xlabel('Complexity')\n",
    "plt.ylabel('Relative Error')\n",
    "plt.title(f'Relative Error vs. Complexity ({NUM_COINS} Systems, {NUM_FLIPS:.0E} Flips)')\n",
    "\n",
    "# Define colormap\n",
    "cmap = plt.cm.viridis\n",
    "norm = mcolors.BoundaryNorm(boundaries=np.arange(min_memory_depth - 0.5, max_memory_depth + 1.5), \n",
    "                            ncolors=cmap.N)\n",
    "\n",
    "# Plot with color-coded memory depth\n",
    "for i in complexity_data.keys():\n",
    "    ax.scatter(complexity_data[i], error_data[i], color=cmap(norm(i)), alpha=0.5)\n",
    "\n",
    "# Create ScalarMappable for colorbar\n",
    "sm = plt.cm.ScalarMappable(cmap=cmap, norm=norm)\n",
    "sm.set_array([])  # Fixes the error\n",
    "\n",
    "# Add colorbar to the current axis\n",
    "plt.colorbar(sm, ax=ax, \n",
    "             ticks=range(min_memory_depth, max_memory_depth+1), \n",
    "             label=\"Model Memory Depth\")\n",
    "\n",
    "plt.show()\n"
   ]
  }
 ],
 "metadata": {
  "kernelspec": {
   "display_name": "Python 3 (ipykernel)",
   "language": "python",
   "name": "python3"
  },
  "language_info": {
   "codemirror_mode": {
    "name": "ipython",
    "version": 3
   },
   "file_extension": ".py",
   "mimetype": "text/x-python",
   "name": "python",
   "nbconvert_exporter": "python",
   "pygments_lexer": "ipython3",
   "version": "3.12.4"
  }
 },
 "nbformat": 4,
 "nbformat_minor": 5
}
